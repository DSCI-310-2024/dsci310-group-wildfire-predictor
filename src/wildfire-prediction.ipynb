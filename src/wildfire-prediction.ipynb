{
 "cells": [
  {
   "cell_type": "markdown",
   "metadata": {},
   "source": [
    "#### Predicting wildfire intensity from historical data\n",
    "By \"names\" / \"date\""
   ]
  },
  {
   "cell_type": "code",
   "execution_count": 1,
   "metadata": {},
   "outputs": [],
   "source": [
    "import numpy as np\n",
    "import pandas as pd\n",
    "import os\n",
    "import requests\n",
    "import zipfile\n",
    "import matplotlib.pyplot as plt"
   ]
  },
  {
   "cell_type": "code",
   "execution_count": 2,
   "metadata": {},
   "outputs": [],
   "source": [
    "#Data is openly available from Github \n",
    "url = \"https://github.com/Call-for-Code/Spot-Challenge-Wildfires/raw/main/data/Nov_10.zip\"\n",
    "#Finding the data folder in the main directory\n",
    "target_directory_for_data = os.path.join(os.path.dirname(os.getcwd()), 'data')\n",
    "#Creating a folder for the Raw data\n",
    "raw_folder =os.path.join(target_directory_for_data, 'Raw')\n",
    "\n",
    "if not os.path.exists(raw_folder):\n",
    "    os.makedirs(raw_folder)\n",
    "\n",
    "#The zip file is then added to the data folder via the path\n",
    "zip_file = os.path.join(raw_folder, 'Nov_10.zip')\n",
    "\n",
    "#Now we add the contents to the folder\n",
    "response = requests.get(url)\n",
    "\n",
    "with open(zip_file, 'wb') as f:\n",
    "    f.write(response.content)\n",
    "\n",
    "with zipfile.ZipFile(zip_file, 'r') as zip_ref:\n",
    "    zip_ref.extractall(raw_folder)"
   ]
  },
  {
   "cell_type": "code",
   "execution_count": 3,
   "metadata": {},
   "outputs": [
    {
     "data": {
      "text/html": [
       "<div>\n",
       "<style scoped>\n",
       "    .dataframe tbody tr th:only-of-type {\n",
       "        vertical-align: middle;\n",
       "    }\n",
       "\n",
       "    .dataframe tbody tr th {\n",
       "        vertical-align: top;\n",
       "    }\n",
       "\n",
       "    .dataframe thead th {\n",
       "        text-align: right;\n",
       "    }\n",
       "</style>\n",
       "<table border=\"1\" class=\"dataframe\">\n",
       "  <thead>\n",
       "    <tr style=\"text-align: right;\">\n",
       "      <th></th>\n",
       "      <th>Region</th>\n",
       "      <th>Date</th>\n",
       "      <th>Estimated_fire_area</th>\n",
       "      <th>Mean_estimated_fire_brightness</th>\n",
       "      <th>Mean_estimated_fire_radiative_power</th>\n",
       "      <th>Mean_confidence</th>\n",
       "      <th>Std_confidence</th>\n",
       "      <th>Var_confidence</th>\n",
       "      <th>Count</th>\n",
       "      <th>Replaced</th>\n",
       "    </tr>\n",
       "  </thead>\n",
       "  <tbody>\n",
       "    <tr>\n",
       "      <th>0</th>\n",
       "      <td>NSW</td>\n",
       "      <td>1/4/2005</td>\n",
       "      <td>8.68000</td>\n",
       "      <td>312.266667</td>\n",
       "      <td>42.400000</td>\n",
       "      <td>78.666667</td>\n",
       "      <td>2.886751</td>\n",
       "      <td>8.333333</td>\n",
       "      <td>3</td>\n",
       "      <td>R</td>\n",
       "    </tr>\n",
       "    <tr>\n",
       "      <th>1</th>\n",
       "      <td>NSW</td>\n",
       "      <td>1/5/2005</td>\n",
       "      <td>16.61125</td>\n",
       "      <td>322.475000</td>\n",
       "      <td>62.362500</td>\n",
       "      <td>85.500000</td>\n",
       "      <td>8.088793</td>\n",
       "      <td>65.428571</td>\n",
       "      <td>8</td>\n",
       "      <td>R</td>\n",
       "    </tr>\n",
       "    <tr>\n",
       "      <th>2</th>\n",
       "      <td>NSW</td>\n",
       "      <td>1/6/2005</td>\n",
       "      <td>5.52000</td>\n",
       "      <td>325.266667</td>\n",
       "      <td>38.400000</td>\n",
       "      <td>78.333333</td>\n",
       "      <td>3.214550</td>\n",
       "      <td>10.333333</td>\n",
       "      <td>3</td>\n",
       "      <td>R</td>\n",
       "    </tr>\n",
       "    <tr>\n",
       "      <th>3</th>\n",
       "      <td>NSW</td>\n",
       "      <td>1/7/2005</td>\n",
       "      <td>6.26400</td>\n",
       "      <td>313.870000</td>\n",
       "      <td>33.800000</td>\n",
       "      <td>92.200000</td>\n",
       "      <td>7.529940</td>\n",
       "      <td>56.700000</td>\n",
       "      <td>5</td>\n",
       "      <td>R</td>\n",
       "    </tr>\n",
       "    <tr>\n",
       "      <th>4</th>\n",
       "      <td>NSW</td>\n",
       "      <td>1/8/2005</td>\n",
       "      <td>5.40000</td>\n",
       "      <td>337.383333</td>\n",
       "      <td>122.533333</td>\n",
       "      <td>91.000000</td>\n",
       "      <td>7.937254</td>\n",
       "      <td>63.000000</td>\n",
       "      <td>3</td>\n",
       "      <td>R</td>\n",
       "    </tr>\n",
       "  </tbody>\n",
       "</table>\n",
       "</div>"
      ],
      "text/plain": [
       "  Region      Date  Estimated_fire_area  Mean_estimated_fire_brightness  \\\n",
       "0    NSW  1/4/2005              8.68000                      312.266667   \n",
       "1    NSW  1/5/2005             16.61125                      322.475000   \n",
       "2    NSW  1/6/2005              5.52000                      325.266667   \n",
       "3    NSW  1/7/2005              6.26400                      313.870000   \n",
       "4    NSW  1/8/2005              5.40000                      337.383333   \n",
       "\n",
       "   Mean_estimated_fire_radiative_power  Mean_confidence  Std_confidence  \\\n",
       "0                            42.400000        78.666667        2.886751   \n",
       "1                            62.362500        85.500000        8.088793   \n",
       "2                            38.400000        78.333333        3.214550   \n",
       "3                            33.800000        92.200000        7.529940   \n",
       "4                           122.533333        91.000000        7.937254   \n",
       "\n",
       "   Var_confidence  Count Replaced  \n",
       "0        8.333333      3        R  \n",
       "1       65.428571      8        R  \n",
       "2       10.333333      3        R  \n",
       "3       56.700000      5        R  \n",
       "4       63.000000      3        R  "
      ]
     },
     "execution_count": 3,
     "metadata": {},
     "output_type": "execute_result"
    }
   ],
   "source": [
    "df = pd.read_csv('data/Nov_10/Historical_Wildfires.csv')\n",
    "df.head()"
   ]
  },
  {
   "cell_type": "code",
   "execution_count": 4,
   "metadata": {},
   "outputs": [
    {
     "name": "stdout",
     "output_type": "stream",
     "text": [
      "<class 'pandas.core.frame.DataFrame'>\n",
      "RangeIndex: 26406 entries, 0 to 26405\n",
      "Data columns (total 10 columns):\n",
      " #   Column                               Non-Null Count  Dtype  \n",
      "---  ------                               --------------  -----  \n",
      " 0   Region                               26406 non-null  object \n",
      " 1   Date                                 26406 non-null  object \n",
      " 2   Estimated_fire_area                  26406 non-null  float64\n",
      " 3   Mean_estimated_fire_brightness       26406 non-null  float64\n",
      " 4   Mean_estimated_fire_radiative_power  26406 non-null  float64\n",
      " 5   Mean_confidence                      26406 non-null  float64\n",
      " 6   Std_confidence                       24199 non-null  float64\n",
      " 7   Var_confidence                       24199 non-null  float64\n",
      " 8   Count                                26406 non-null  int64  \n",
      " 9   Replaced                             26406 non-null  object \n",
      "dtypes: float64(6), int64(1), object(3)\n",
      "memory usage: 2.0+ MB\n"
     ]
    }
   ],
   "source": [
    "df.info()"
   ]
  },
  {
   "cell_type": "code",
   "execution_count": 5,
   "metadata": {},
   "outputs": [],
   "source": [
    "#Clean data from null values\n",
    "\n",
    "df_clean = df.dropna()"
   ]
  },
  {
   "cell_type": "code",
   "execution_count": 6,
   "metadata": {},
   "outputs": [
    {
     "name": "stdout",
     "output_type": "stream",
     "text": [
      "<class 'pandas.core.frame.DataFrame'>\n",
      "Index: 24199 entries, 0 to 26405\n",
      "Data columns (total 10 columns):\n",
      " #   Column                               Non-Null Count  Dtype  \n",
      "---  ------                               --------------  -----  \n",
      " 0   Region                               24199 non-null  object \n",
      " 1   Date                                 24199 non-null  object \n",
      " 2   Estimated_fire_area                  24199 non-null  float64\n",
      " 3   Mean_estimated_fire_brightness       24199 non-null  float64\n",
      " 4   Mean_estimated_fire_radiative_power  24199 non-null  float64\n",
      " 5   Mean_confidence                      24199 non-null  float64\n",
      " 6   Std_confidence                       24199 non-null  float64\n",
      " 7   Var_confidence                       24199 non-null  float64\n",
      " 8   Count                                24199 non-null  int64  \n",
      " 9   Replaced                             24199 non-null  object \n",
      "dtypes: float64(6), int64(1), object(3)\n",
      "memory usage: 2.0+ MB\n"
     ]
    }
   ],
   "source": [
    "df_clean.info()"
   ]
  },
  {
   "cell_type": "code",
   "execution_count": 7,
   "metadata": {},
   "outputs": [
    {
     "data": {
      "image/png": "[encoded data removed]",
      "text/plain": [
       "<Figure size 640x480 with 1 Axes>"
      ]
     },
     "metadata": {},
     "output_type": "display_data"
    }
   ],
   "source": [
    "# EDA Visualization 1\n",
    "\n",
    "df_clean['Estimated_fire_area'].plot(kind = 'hist', bins=10)\n",
    "\n",
    "# Add labels and title\n",
    "plt.xlabel('Estimated_fire_area')\n",
    "plt.ylabel('Frequency')\n",
    "plt.title('Histogram of Estimated Fire Area')\n",
    "\n",
    "# Show the plot\n",
    "plt.show()"
   ]
  },
  {
   "cell_type": "code",
   "execution_count": 13,
   "metadata": {},
   "outputs": [
    {
     "name": "stdout",
     "output_type": "stream",
     "text": [
      "       Estimated_fire_area  Mean_estimated_fire_brightness  \\\n",
      "count         26406.000000                    26406.000000   \n",
      "mean            144.297966                      319.662078   \n",
      "std             314.453847                        8.862005   \n",
      "min               1.000000                      290.700000   \n",
      "25%               8.911875                      313.933333   \n",
      "50%              38.434091                      319.784412   \n",
      "75%             146.951278                      325.403144   \n",
      "max           10120.943170                      381.950000   \n",
      "\n",
      "       Mean_estimated_fire_radiative_power  Mean_confidence  Std_confidence  \\\n",
      "count                         26406.000000     26406.000000    24199.000000   \n",
      "mean                             83.621258        87.574735        7.228302   \n",
      "std                              67.510022         4.371972        1.995221   \n",
      "min                               0.000000        76.000000        0.000000   \n",
      "25%                              44.150391        85.000000        6.687010   \n",
      "50%                              67.133333        87.771429        7.707025   \n",
      "75%                             103.123611        90.498403        8.236665   \n",
      "max                            2178.600000       100.000000       16.970563   \n",
      "\n",
      "       Var_confidence         Count  \n",
      "count    24199.000000  26406.000000  \n",
      "mean        56.229092     72.059305  \n",
      "std         25.898935    150.973128  \n",
      "min          0.000000      1.000000  \n",
      "25%         44.716106      5.000000  \n",
      "50%         59.398234     20.000000  \n",
      "75%         67.842642     74.000000  \n",
      "max        288.000000   3954.000000  \n"
     ]
    }
   ],
   "source": [
    "print(df.describe())"
   ]
  },
  {
   "cell_type": "code",
   "execution_count": 14,
   "metadata": {},
   "outputs": [
    {
     "name": "stdout",
     "output_type": "stream",
     "text": [
      "  Region  count\n",
      "0     WA   5627\n",
      "1     QL   5533\n",
      "2     NT   5053\n",
      "3    NSW   4623\n",
      "4     VI   2176\n",
      "5     SA   1990\n",
      "6     TA   1404\n"
     ]
    }
   ],
   "source": [
    "print(df['Region'].value_counts().reset_index())"
   ]
  },
  {
   "cell_type": "markdown",
   "metadata": {},
   "source": [
    "### Summary \n",
    "text"
   ]
  },
  {
   "cell_type": "markdown",
   "metadata": {},
   "source": [
    "### Introduction \n",
    "text"
   ]
  },
  {
   "cell_type": "markdown",
   "metadata": {},
   "source": [
    "### Methods <br>\n",
    "\n",
    "#### Data\n",
    "text\n",
    "\n",
    "#### Analysis \n",
    "text"
   ]
  },
  {
   "cell_type": "markdown",
   "metadata": {},
   "source": [
    "### Results and Discussions\n",
    "text"
   ]
  },
  {
   "cell_type": "code",
   "execution_count": null,
   "metadata": {},
   "outputs": [],
   "source": []
  }
 ],
 "metadata": {
  "kernelspec": {
   "display_name": "Python 3 (ipykernel)",
   "language": "python",
   "name": "python3"
  },
  "language_info": {
   "codemirror_mode": {
    "name": "ipython",
    "version": 3
   },
   "file_extension": ".py",
   "mimetype": "text/x-python",
   "name": "python",
   "nbconvert_exporter": "python",
   "pygments_lexer": "ipython3",
   "version": "3.11.8"
  }
 },
 "nbformat": 4,
 "nbformat_minor": 4
}
